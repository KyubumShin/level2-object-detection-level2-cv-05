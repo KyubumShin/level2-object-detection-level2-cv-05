{
 "cells": [
  {
   "cell_type": "markdown",
   "metadata": {},
   "source": [
    "# Train"
   ]
  },
  {
   "cell_type": "code",
   "execution_count": 11,
   "metadata": {},
   "outputs": [],
   "source": [
    "import json \n",
    "\n",
    "# json 파일 읽어오기 \n",
    "with open('/opt/ml/detection/dataset/cv5_data.json','r') as f:\n",
    "    json_data = json.load(f)"
   ]
  },
  {
   "cell_type": "code",
   "execution_count": 12,
   "metadata": {},
   "outputs": [
    {
     "data": {
      "text/plain": [
       "[{'id': 0, 'name': 'General trash', 'supercategory': 'General trash'},\n",
       " {'id': 1, 'name': 'Paper', 'supercategory': 'Paper'},\n",
       " {'id': 2, 'name': 'Paper pack', 'supercategory': 'Paper pack'},\n",
       " {'id': 3, 'name': 'Metal', 'supercategory': 'Metal'},\n",
       " {'id': 4, 'name': 'Glass', 'supercategory': 'Glass'},\n",
       " {'id': 5, 'name': 'Plastic', 'supercategory': 'Plastic'},\n",
       " {'id': 6, 'name': 'Styrofoam', 'supercategory': 'Styrofoam'},\n",
       " {'id': 7, 'name': 'Plastic bag', 'supercategory': 'Plastic bag'},\n",
       " {'id': 8, 'name': 'Battery', 'supercategory': 'Battery'},\n",
       " {'id': 9, 'name': 'Clothing', 'supercategory': 'Clothing'}]"
      ]
     },
     "execution_count": 12,
     "metadata": {},
     "output_type": "execute_result"
    }
   ],
   "source": [
    "categoriesArray=json_data.get(\"categories\")\n",
    "categoriesArray # label 수정전 "
   ]
  },
  {
   "cell_type": "code",
   "execution_count": 13,
   "metadata": {},
   "outputs": [
    {
     "data": {
      "text/plain": [
       "[{'id': 1, 'name': 'General trash', 'supercategory': 'General trash'},\n",
       " {'id': 2, 'name': 'Paper', 'supercategory': 'Paper'},\n",
       " {'id': 3, 'name': 'Paper pack', 'supercategory': 'Paper pack'},\n",
       " {'id': 4, 'name': 'Metal', 'supercategory': 'Metal'},\n",
       " {'id': 5, 'name': 'Glass', 'supercategory': 'Glass'},\n",
       " {'id': 6, 'name': 'Plastic', 'supercategory': 'Plastic'},\n",
       " {'id': 7, 'name': 'Styrofoam', 'supercategory': 'Styrofoam'},\n",
       " {'id': 8, 'name': 'Plastic bag', 'supercategory': 'Plastic bag'},\n",
       " {'id': 9, 'name': 'Battery', 'supercategory': 'Battery'},\n",
       " {'id': 10, 'name': 'Clothing', 'supercategory': 'Clothing'}]"
      ]
     },
     "execution_count": 13,
     "metadata": {},
     "output_type": "execute_result"
    }
   ],
   "source": [
    "for idx, list in enumerate(categoriesArray):\n",
    "    list[\"id\"]=list.get(\"id\")+1\n",
    "    json_data[\"categories\"][idx]=list\n",
    "\n",
    "categoriesArray # label 수정후"
   ]
  },
  {
   "cell_type": "code",
   "execution_count": 14,
   "metadata": {},
   "outputs": [
    {
     "data": {
      "text/plain": [
       "[{'id': 0,\n",
       "  'image_id': 0,\n",
       "  'category_id': 0,\n",
       "  'area': 257301,\n",
       "  'bbox': [197.6, 193.7, 547.8, 469.7],\n",
       "  'iscrowd': False},\n",
       " {'id': 1,\n",
       "  'image_id': 1,\n",
       "  'category_id': 3,\n",
       "  'area': 10402,\n",
       "  'bbox': [0.0, 407.4, 57.6, 180.6],\n",
       "  'iscrowd': False},\n",
       " {'id': 2,\n",
       "  'image_id': 1,\n",
       "  'category_id': 7,\n",
       "  'area': 26259,\n",
       "  'bbox': [0.0, 455.6, 144.6, 181.6],\n",
       "  'iscrowd': False}]"
      ]
     },
     "execution_count": 14,
     "metadata": {},
     "output_type": "execute_result"
    }
   ],
   "source": [
    "annoCategoriesArray=json_data.get(\"annotations\")\n",
    "annoCategoriesArray[:3] # 수정된 label 적용전 일부 "
   ]
  },
  {
   "cell_type": "code",
   "execution_count": 15,
   "metadata": {},
   "outputs": [
    {
     "data": {
      "text/plain": [
       "[{'id': 0,\n",
       "  'image_id': 0,\n",
       "  'category_id': 1,\n",
       "  'area': 257301,\n",
       "  'bbox': [197.6, 193.7, 547.8, 469.7],\n",
       "  'iscrowd': False},\n",
       " {'id': 1,\n",
       "  'image_id': 1,\n",
       "  'category_id': 4,\n",
       "  'area': 10402,\n",
       "  'bbox': [0.0, 407.4, 57.6, 180.6],\n",
       "  'iscrowd': False},\n",
       " {'id': 2,\n",
       "  'image_id': 1,\n",
       "  'category_id': 8,\n",
       "  'area': 26259,\n",
       "  'bbox': [0.0, 455.6, 144.6, 181.6],\n",
       "  'iscrowd': False}]"
      ]
     },
     "execution_count": 15,
     "metadata": {},
     "output_type": "execute_result"
    }
   ],
   "source": [
    "for idx, list in enumerate(annoCategoriesArray):\n",
    "    list[\"category_id\"]=list.get(\"category_id\")+1\n",
    "    json_data[\"annotations\"][idx]=list\n",
    "\n",
    "annoCategoriesArray[:3] # 수정된 label 적용후 일부 "
   ]
  },
  {
   "cell_type": "code",
   "execution_count": 16,
   "metadata": {},
   "outputs": [],
   "source": [
    "# json 파일로 저장 \n",
    "with open('/opt/ml/detection/dataset/eff_train.json','w') as makefile:\n",
    "    json.dump(json_data, makefile, indent=\"\\t\")  "
   ]
  },
  {
   "cell_type": "markdown",
   "metadata": {},
   "source": [
    "# Validation"
   ]
  },
  {
   "cell_type": "code",
   "execution_count": 25,
   "metadata": {},
   "outputs": [],
   "source": [
    "# json 파일 읽어오기 \n",
    "with open('/opt/ml/detection/dataset/StratifiedKFold/cv_val_5.json','r') as f:\n",
    "    json_data = json.load(f)"
   ]
  },
  {
   "cell_type": "code",
   "execution_count": 26,
   "metadata": {},
   "outputs": [
    {
     "data": {
      "text/plain": [
       "[{'id': 0, 'name': 'General trash', 'supercategory': 'General trash'},\n",
       " {'id': 1, 'name': 'Paper', 'supercategory': 'Paper'},\n",
       " {'id': 2, 'name': 'Paper pack', 'supercategory': 'Paper pack'},\n",
       " {'id': 3, 'name': 'Metal', 'supercategory': 'Metal'},\n",
       " {'id': 4, 'name': 'Glass', 'supercategory': 'Glass'},\n",
       " {'id': 5, 'name': 'Plastic', 'supercategory': 'Plastic'},\n",
       " {'id': 6, 'name': 'Styrofoam', 'supercategory': 'Styrofoam'},\n",
       " {'id': 7, 'name': 'Plastic bag', 'supercategory': 'Plastic bag'},\n",
       " {'id': 8, 'name': 'Battery', 'supercategory': 'Battery'},\n",
       " {'id': 9, 'name': 'Clothing', 'supercategory': 'Clothing'}]"
      ]
     },
     "execution_count": 26,
     "metadata": {},
     "output_type": "execute_result"
    }
   ],
   "source": [
    "categoriesArray=json_data.get(\"categories\")\n",
    "categoriesArray # label 수정전 "
   ]
  },
  {
   "cell_type": "code",
   "execution_count": 27,
   "metadata": {},
   "outputs": [
    {
     "data": {
      "text/plain": [
       "[{'id': 1, 'name': 'General trash', 'supercategory': 'General trash'},\n",
       " {'id': 2, 'name': 'Paper', 'supercategory': 'Paper'},\n",
       " {'id': 3, 'name': 'Paper pack', 'supercategory': 'Paper pack'},\n",
       " {'id': 4, 'name': 'Metal', 'supercategory': 'Metal'},\n",
       " {'id': 5, 'name': 'Glass', 'supercategory': 'Glass'},\n",
       " {'id': 6, 'name': 'Plastic', 'supercategory': 'Plastic'},\n",
       " {'id': 7, 'name': 'Styrofoam', 'supercategory': 'Styrofoam'},\n",
       " {'id': 8, 'name': 'Plastic bag', 'supercategory': 'Plastic bag'},\n",
       " {'id': 9, 'name': 'Battery', 'supercategory': 'Battery'},\n",
       " {'id': 10, 'name': 'Clothing', 'supercategory': 'Clothing'}]"
      ]
     },
     "execution_count": 27,
     "metadata": {},
     "output_type": "execute_result"
    }
   ],
   "source": [
    "for idx, list in enumerate(categoriesArray):\n",
    "    list[\"id\"]=list.get(\"id\")+1\n",
    "    json_data[\"categories\"][idx]=list\n",
    "\n",
    "categoriesArray # label 수정후"
   ]
  },
  {
   "cell_type": "code",
   "execution_count": 28,
   "metadata": {},
   "outputs": [
    {
     "data": {
      "text/plain": [
       "[{'id': 9,\n",
       "  'image_id': 2,\n",
       "  'category_id': 3,\n",
       "  'area': 324010,\n",
       "  'bbox': [267.9, 165.2, 631.6, 513.0],\n",
       "  'iscrowd': False},\n",
       " {'id': 12,\n",
       "  'image_id': 4,\n",
       "  'category_id': 0,\n",
       "  'area': 4523,\n",
       "  'bbox': [868.2, 521.7, 101.2, 44.7],\n",
       "  'iscrowd': False},\n",
       " {'id': 13,\n",
       "  'image_id': 4,\n",
       "  'category_id': 1,\n",
       "  'area': 57900,\n",
       "  'bbox': [482.2, 491.4, 277.7, 208.5],\n",
       "  'iscrowd': False}]"
      ]
     },
     "execution_count": 28,
     "metadata": {},
     "output_type": "execute_result"
    }
   ],
   "source": [
    "annoCategoriesArray=json_data.get(\"annotations\")\n",
    "annoCategoriesArray[:3] # 수정된 label 적용전 일부 "
   ]
  },
  {
   "cell_type": "code",
   "execution_count": 29,
   "metadata": {},
   "outputs": [
    {
     "data": {
      "text/plain": [
       "[{'id': 9,\n",
       "  'image_id': 2,\n",
       "  'category_id': 4,\n",
       "  'area': 324010,\n",
       "  'bbox': [267.9, 165.2, 631.6, 513.0],\n",
       "  'iscrowd': False},\n",
       " {'id': 12,\n",
       "  'image_id': 4,\n",
       "  'category_id': 1,\n",
       "  'area': 4523,\n",
       "  'bbox': [868.2, 521.7, 101.2, 44.7],\n",
       "  'iscrowd': False},\n",
       " {'id': 13,\n",
       "  'image_id': 4,\n",
       "  'category_id': 2,\n",
       "  'area': 57900,\n",
       "  'bbox': [482.2, 491.4, 277.7, 208.5],\n",
       "  'iscrowd': False}]"
      ]
     },
     "execution_count": 29,
     "metadata": {},
     "output_type": "execute_result"
    }
   ],
   "source": [
    "for idx, list in enumerate(annoCategoriesArray):\n",
    "    list[\"category_id\"]=list.get(\"category_id\")+1\n",
    "    json_data[\"annotations\"][idx]=list\n",
    "\n",
    "annoCategoriesArray[:3] # 수정된 label 적용후 일부 "
   ]
  },
  {
   "cell_type": "code",
   "execution_count": 30,
   "metadata": {},
   "outputs": [],
   "source": [
    "# json 파일로 저장 \n",
    "with open('/opt/ml/detection/dataset/eff_val.json','w') as makefile:\n",
    "    json.dump(json_data, makefile, indent=\"\\t\")  "
   ]
  },
  {
   "cell_type": "markdown",
   "metadata": {},
   "source": [
    "# Test"
   ]
  },
  {
   "cell_type": "code",
   "execution_count": 31,
   "metadata": {},
   "outputs": [],
   "source": [
    "import json \n",
    "\n",
    "# json 파일 읽어오기 \n",
    "with open('/opt/ml/detection/dataset/test.json','r') as f:\n",
    "    json_data = json.load(f)"
   ]
  },
  {
   "cell_type": "code",
   "execution_count": 32,
   "metadata": {},
   "outputs": [
    {
     "data": {
      "text/plain": [
       "[{'id': 0, 'name': 'General trash', 'supercategory': 'General trash'},\n",
       " {'id': 1, 'name': 'Paper', 'supercategory': 'Paper'},\n",
       " {'id': 2, 'name': 'Paper pack', 'supercategory': 'Paper pack'},\n",
       " {'id': 3, 'name': 'Metal', 'supercategory': 'Metal'},\n",
       " {'id': 4, 'name': 'Glass', 'supercategory': 'Glass'},\n",
       " {'id': 5, 'name': 'Plastic', 'supercategory': 'Plastic'},\n",
       " {'id': 6, 'name': 'Styrofoam', 'supercategory': 'Styrofoam'},\n",
       " {'id': 7, 'name': 'Plastic bag', 'supercategory': 'Plastic bag'},\n",
       " {'id': 8, 'name': 'Battery', 'supercategory': 'Battery'},\n",
       " {'id': 9, 'name': 'Clothing', 'supercategory': 'Clothing'}]"
      ]
     },
     "execution_count": 32,
     "metadata": {},
     "output_type": "execute_result"
    }
   ],
   "source": [
    "categoriesArray=json_data.get(\"categories\")\n",
    "categoriesArray # label 수정전 "
   ]
  },
  {
   "cell_type": "code",
   "execution_count": 33,
   "metadata": {},
   "outputs": [
    {
     "data": {
      "text/plain": [
       "[{'id': 1, 'name': 'General trash', 'supercategory': 'General trash'},\n",
       " {'id': 2, 'name': 'Paper', 'supercategory': 'Paper'},\n",
       " {'id': 3, 'name': 'Paper pack', 'supercategory': 'Paper pack'},\n",
       " {'id': 4, 'name': 'Metal', 'supercategory': 'Metal'},\n",
       " {'id': 5, 'name': 'Glass', 'supercategory': 'Glass'},\n",
       " {'id': 6, 'name': 'Plastic', 'supercategory': 'Plastic'},\n",
       " {'id': 7, 'name': 'Styrofoam', 'supercategory': 'Styrofoam'},\n",
       " {'id': 8, 'name': 'Plastic bag', 'supercategory': 'Plastic bag'},\n",
       " {'id': 9, 'name': 'Battery', 'supercategory': 'Battery'},\n",
       " {'id': 10, 'name': 'Clothing', 'supercategory': 'Clothing'}]"
      ]
     },
     "execution_count": 33,
     "metadata": {},
     "output_type": "execute_result"
    }
   ],
   "source": [
    "for idx, list in enumerate(categoriesArray):\n",
    "    list[\"id\"]=list.get(\"id\")+1\n",
    "    json_data[\"categories\"][idx]=list\n",
    "\n",
    "categoriesArray # label 수정후"
   ]
  },
  {
   "cell_type": "code",
   "execution_count": 34,
   "metadata": {},
   "outputs": [],
   "source": [
    "# json 파일로 저장 \n",
    "with open('/opt/ml/detection/dataset/eff_test.json','w') as makefile:\n",
    "    json.dump(json_data, makefile, indent=\"\\t\")  "
   ]
  }
 ],
 "metadata": {
  "interpreter": {
   "hash": "d4d1e4263499bec80672ea0156c357c1ee493ec2b1c70f0acce89fc37c4a6abe"
  },
  "kernelspec": {
   "display_name": "Python 3.8.5 64-bit ('base': conda)",
   "language": "python",
   "name": "python3"
  },
  "language_info": {
   "codemirror_mode": {
    "name": "ipython",
    "version": 3
   },
   "file_extension": ".py",
   "mimetype": "text/x-python",
   "name": "python",
   "nbconvert_exporter": "python",
   "pygments_lexer": "ipython3",
   "version": "3.8.5"
  },
  "orig_nbformat": 4
 },
 "nbformat": 4,
 "nbformat_minor": 2
}

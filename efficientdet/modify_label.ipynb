{
 "cells": [
  {
   "cell_type": "markdown",
   "metadata": {},
   "source": [
    "# Train"
   ]
  },
  {
   "cell_type": "code",
   "execution_count": 30,
   "metadata": {},
   "outputs": [],
   "source": [
    "import json \n",
    "\n",
    "# json 파일 읽어오기 \n",
    "with open('/opt/ml/detection/dataset/train.json','r') as f:\n",
    "    json_data = json.load(f)"
   ]
  },
  {
   "cell_type": "code",
   "execution_count": null,
   "metadata": {},
   "outputs": [],
   "source": [
    "with open('/opt/ml/detection/dataset/train.json','r') as f:\n",
    "    json_data = json.load(f)\n",
    "categoriesArray=json_data.get(\"categories\")"
   ]
  },
  {
   "cell_type": "code",
   "execution_count": 31,
   "metadata": {},
   "outputs": [
    {
     "data": {
      "text/plain": [
       "[{'id': 0, 'name': 'General trash', 'supercategory': 'General trash'},\n",
       " {'id': 1, 'name': 'Paper', 'supercategory': 'Paper'},\n",
       " {'id': 2, 'name': 'Paper pack', 'supercategory': 'Paper pack'},\n",
       " {'id': 3, 'name': 'Metal', 'supercategory': 'Metal'},\n",
       " {'id': 4, 'name': 'Glass', 'supercategory': 'Glass'},\n",
       " {'id': 5, 'name': 'Plastic', 'supercategory': 'Plastic'},\n",
       " {'id': 6, 'name': 'Styrofoam', 'supercategory': 'Styrofoam'},\n",
       " {'id': 7, 'name': 'Plastic bag', 'supercategory': 'Plastic bag'},\n",
       " {'id': 8, 'name': 'Battery', 'supercategory': 'Battery'},\n",
       " {'id': 9, 'name': 'Clothing', 'supercategory': 'Clothing'}]"
      ]
     },
     "execution_count": 31,
     "metadata": {},
     "output_type": "execute_result"
    }
   ],
   "source": [
    "categoriesArray=json_data.get(\"categories\")\n",
    "categoriesArray # label 수정전 "
   ]
  },
  {
   "cell_type": "code",
   "execution_count": 32,
   "metadata": {},
   "outputs": [
    {
     "data": {
      "text/plain": [
       "[{'id': 1, 'name': 'General trash', 'supercategory': 'General trash'},\n",
       " {'id': 2, 'name': 'Paper', 'supercategory': 'Paper'},\n",
       " {'id': 3, 'name': 'Paper pack', 'supercategory': 'Paper pack'},\n",
       " {'id': 4, 'name': 'Metal', 'supercategory': 'Metal'},\n",
       " {'id': 5, 'name': 'Glass', 'supercategory': 'Glass'},\n",
       " {'id': 6, 'name': 'Plastic', 'supercategory': 'Plastic'},\n",
       " {'id': 7, 'name': 'Styrofoam', 'supercategory': 'Styrofoam'},\n",
       " {'id': 8, 'name': 'Plastic bag', 'supercategory': 'Plastic bag'},\n",
       " {'id': 9, 'name': 'Battery', 'supercategory': 'Battery'},\n",
       " {'id': 10, 'name': 'Clothing', 'supercategory': 'Clothing'}]"
      ]
     },
     "execution_count": 32,
     "metadata": {},
     "output_type": "execute_result"
    }
   ],
   "source": [
    "for idx, list in enumerate(categoriesArray):\n",
    "    list[\"id\"]=list.get(\"id\")+1\n",
    "    json_data[\"categories\"][idx]=list\n",
    "\n",
    "categoriesArray # label 수정후"
   ]
  },
  {
   "cell_type": "code",
   "execution_count": 34,
   "metadata": {},
   "outputs": [
    {
     "data": {
      "text/plain": [
       "[{'image_id': 0,\n",
       "  'category_id': 0,\n",
       "  'area': 257301.66,\n",
       "  'bbox': [197.6, 193.7, 547.8, 469.7],\n",
       "  'iscrowd': 0,\n",
       "  'id': 0},\n",
       " {'image_id': 1,\n",
       "  'category_id': 3,\n",
       "  'area': 10402.56,\n",
       "  'bbox': [0.0, 407.4, 57.6, 180.6],\n",
       "  'iscrowd': 0,\n",
       "  'id': 1},\n",
       " {'image_id': 1,\n",
       "  'category_id': 7,\n",
       "  'area': 26259.36,\n",
       "  'bbox': [0.0, 455.6, 144.6, 181.6],\n",
       "  'iscrowd': 0,\n",
       "  'id': 2}]"
      ]
     },
     "execution_count": 34,
     "metadata": {},
     "output_type": "execute_result"
    }
   ],
   "source": [
    "annoCategoriesArray=json_data.get(\"annotations\")\n",
    "annoCategoriesArray[:3] # 수정된 label 적용전 일부 "
   ]
  },
  {
   "cell_type": "code",
   "execution_count": 35,
   "metadata": {},
   "outputs": [
    {
     "data": {
      "text/plain": [
       "[{'image_id': 0,\n",
       "  'category_id': 1,\n",
       "  'area': 257301.66,\n",
       "  'bbox': [197.6, 193.7, 547.8, 469.7],\n",
       "  'iscrowd': 0,\n",
       "  'id': 0},\n",
       " {'image_id': 1,\n",
       "  'category_id': 4,\n",
       "  'area': 10402.56,\n",
       "  'bbox': [0.0, 407.4, 57.6, 180.6],\n",
       "  'iscrowd': 0,\n",
       "  'id': 1},\n",
       " {'image_id': 1,\n",
       "  'category_id': 8,\n",
       "  'area': 26259.36,\n",
       "  'bbox': [0.0, 455.6, 144.6, 181.6],\n",
       "  'iscrowd': 0,\n",
       "  'id': 2}]"
      ]
     },
     "execution_count": 35,
     "metadata": {},
     "output_type": "execute_result"
    }
   ],
   "source": [
    "for idx, list in enumerate(annoCategoriesArray):\n",
    "    list[\"category_id\"]=list.get(\"category_id\")+1\n",
    "    json_data[\"annotations\"][idx]=list\n",
    "\n",
    "annoCategoriesArray[:3] # 수정된 label 적용후 일부 "
   ]
  },
  {
   "cell_type": "code",
   "execution_count": 36,
   "metadata": {},
   "outputs": [],
   "source": [
    "# json 파일로 저장 \n",
    "with open('/opt/ml/detection/dataset/eff_train.json','w') as makefile:\n",
    "    json.dump(json_data, makefile, indent=\"\\t\")  "
   ]
  },
  {
   "cell_type": "markdown",
   "metadata": {},
   "source": [
    "# Test"
   ]
  },
  {
   "cell_type": "code",
   "execution_count": 5,
   "metadata": {},
   "outputs": [],
   "source": [
    "import json \n",
    "\n",
    "# json 파일 읽어오기 \n",
    "with open('/opt/ml/detection/dataset/test.json','r') as f:\n",
    "    json_data = json.load(f)"
   ]
  },
  {
   "cell_type": "code",
   "execution_count": 6,
   "metadata": {},
   "outputs": [
    {
     "data": {
      "text/plain": [
       "[{'id': 0, 'name': 'General trash', 'supercategory': 'General trash'},\n",
       " {'id': 1, 'name': 'Paper', 'supercategory': 'Paper'},\n",
       " {'id': 2, 'name': 'Paper pack', 'supercategory': 'Paper pack'},\n",
       " {'id': 3, 'name': 'Metal', 'supercategory': 'Metal'},\n",
       " {'id': 4, 'name': 'Glass', 'supercategory': 'Glass'},\n",
       " {'id': 5, 'name': 'Plastic', 'supercategory': 'Plastic'},\n",
       " {'id': 6, 'name': 'Styrofoam', 'supercategory': 'Styrofoam'},\n",
       " {'id': 7, 'name': 'Plastic bag', 'supercategory': 'Plastic bag'},\n",
       " {'id': 8, 'name': 'Battery', 'supercategory': 'Battery'},\n",
       " {'id': 9, 'name': 'Clothing', 'supercategory': 'Clothing'}]"
      ]
     },
     "execution_count": 6,
     "metadata": {},
     "output_type": "execute_result"
    }
   ],
   "source": [
    "categoriesArray=json_data.get(\"categories\")\n",
    "categoriesArray # label 수정전 "
   ]
  },
  {
   "cell_type": "code",
   "execution_count": 7,
   "metadata": {},
   "outputs": [
    {
     "data": {
      "text/plain": [
       "[{'id': 1, 'name': 'General trash', 'supercategory': 'General trash'},\n",
       " {'id': 2, 'name': 'Paper', 'supercategory': 'Paper'},\n",
       " {'id': 3, 'name': 'Paper pack', 'supercategory': 'Paper pack'},\n",
       " {'id': 4, 'name': 'Metal', 'supercategory': 'Metal'},\n",
       " {'id': 5, 'name': 'Glass', 'supercategory': 'Glass'},\n",
       " {'id': 6, 'name': 'Plastic', 'supercategory': 'Plastic'},\n",
       " {'id': 7, 'name': 'Styrofoam', 'supercategory': 'Styrofoam'},\n",
       " {'id': 8, 'name': 'Plastic bag', 'supercategory': 'Plastic bag'},\n",
       " {'id': 9, 'name': 'Battery', 'supercategory': 'Battery'},\n",
       " {'id': 10, 'name': 'Clothing', 'supercategory': 'Clothing'}]"
      ]
     },
     "execution_count": 7,
     "metadata": {},
     "output_type": "execute_result"
    }
   ],
   "source": [
    "for idx, list in enumerate(categoriesArray):\n",
    "    list[\"id\"]=list.get(\"id\")+1\n",
    "    json_data[\"categories\"][idx]=list\n",
    "\n",
    "categoriesArray # label 수정후"
   ]
  },
  {
   "cell_type": "code",
   "execution_count": 8,
   "metadata": {},
   "outputs": [],
   "source": [
    "# json 파일로 저장 \n",
    "with open('/opt/ml/detection/dataset/eff_test.json','w') as makefile:\n",
    "    json.dump(json_data, makefile, indent=\"\\t\")  "
   ]
  },
  {
   "cell_type": "code",
   "execution_count": null,
   "metadata": {},
   "outputs": [],
   "source": []
  }
 ],
 "metadata": {
  "interpreter": {
   "hash": "d4d1e4263499bec80672ea0156c357c1ee493ec2b1c70f0acce89fc37c4a6abe"
  },
  "kernelspec": {
   "display_name": "Python 3.8.5 64-bit ('base': conda)",
   "language": "python",
   "name": "python3"
  },
  "language_info": {
   "codemirror_mode": {
    "name": "ipython",
    "version": 3
   },
   "file_extension": ".py",
   "mimetype": "text/x-python",
   "name": "python",
   "nbconvert_exporter": "python",
   "pygments_lexer": "ipython3",
   "version": "3.8.5"
  },
  "orig_nbformat": 4
 },
 "nbformat": 4,
 "nbformat_minor": 2
}
